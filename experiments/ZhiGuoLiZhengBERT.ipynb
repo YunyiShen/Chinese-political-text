{
 "cells": [
  {
   "cell_type": "code",
   "execution_count": 1,
   "metadata": {},
   "outputs": [
    {
     "name": "stderr",
     "output_type": "stream",
     "text": [
      "/home/yunyi/.conda/envs/torch/lib/python3.10/site-packages/tqdm/auto.py:22: TqdmWarning: IProgress not found. Please update jupyter and ipywidgets. See https://ipywidgets.readthedocs.io/en/stable/user_install.html\n",
      "  from .autonotebook import tqdm as notebook_tqdm\n"
     ]
    }
   ],
   "source": [
    "from sentence_transformers import SentenceTransformer, models, util\n",
    "import csv \n",
    "import json\n",
    "import numpy as np\n",
    "from torch import nn"
   ]
  },
  {
   "cell_type": "code",
   "execution_count": null,
   "metadata": {},
   "outputs": [],
   "source": [
    "word_embedding_model = models.Transformer('../../ZhiGuoLiZheng/pretrained/ZhiGuoLiZheng-BERT', \n",
    "                                        max_seq_length=256)\n",
    "pooling_model = models.Pooling(word_embedding_model.get_word_embedding_dimension())\n",
    "dense_model = models.Dense(in_features=pooling_model.get_sentence_embedding_dimension(), \n",
    "                            out_features=256, activation_function=nn.Tanh())\n",
    "\n",
    "model = SentenceTransformer(modules=[word_embedding_model, \n",
    "                                    pooling_model, \n",
    "                                    dense_model])"
   ]
  },
  {
   "cell_type": "code",
   "execution_count": 13,
   "metadata": {},
   "outputs": [],
   "source": [
    "sentences = []\n",
    "topic = []\n",
    "\n",
    "with open(\"../data/long_sample.csv\") as reader:\n",
    "\tcsvreader = csv.reader(reader)\n",
    "\tnext(csvreader)\n",
    "\tfor tpc, st in csvreader:\n",
    "\t\tsentences.append(st)\n",
    "\t\ttopic.append(tpc)\n",
    "\t\t\n",
    "  \n",
    "\n",
    "sen_ecd = model.encode(sentences)"
   ]
  },
  {
   "cell_type": "code",
   "execution_count": 14,
   "metadata": {},
   "outputs": [
    {
     "data": {
      "text/plain": [
       "(67, 256)"
      ]
     },
     "execution_count": 14,
     "metadata": {},
     "output_type": "execute_result"
    }
   ],
   "source": [
    "sen_ecd.shape"
   ]
  },
  {
   "cell_type": "code",
   "execution_count": 15,
   "metadata": {},
   "outputs": [],
   "source": [
    "u,s,vh = np.linalg.svd(sen_ecd,full_matrices=True)"
   ]
  },
  {
   "cell_type": "code",
   "execution_count": 5,
   "metadata": {},
   "outputs": [],
   "source": [
    "import matplotlib.pyplot as plt"
   ]
  },
  {
   "cell_type": "code",
   "execution_count": 16,
   "metadata": {},
   "outputs": [
    {
     "data": {
      "text/plain": [
       "[<matplotlib.lines.Line2D at 0x7f4b42509630>]"
      ]
     },
     "execution_count": 16,
     "metadata": {},
     "output_type": "execute_result"
    },
    {
     "data": {
      "image/png": "[encoded data removed]",
      "text/plain": [
       "<Figure size 640x480 with 1 Axes>"
      ]
     },
     "metadata": {},
     "output_type": "display_data"
    }
   ],
   "source": [
    "plt.plot(s[:5]/np.sum(s))"
   ]
  },
  {
   "cell_type": "code",
   "execution_count": 17,
   "metadata": {},
   "outputs": [
    {
     "data": {
      "text/plain": [
       "((67, 67), (67,), (256, 256))"
      ]
     },
     "execution_count": 17,
     "metadata": {},
     "output_type": "execute_result"
    }
   ],
   "source": [
    "u.shape, s.shape, vh.shape"
   ]
  },
  {
   "cell_type": "code",
   "execution_count": 20,
   "metadata": {},
   "outputs": [],
   "source": [
    "dim = 3\n",
    "smat = np.zeros((dim,dim))\n",
    "smat[:dim,:dim] = np.diag(s[:dim])\n",
    "reduced_emb = np.dot(u[:,:dim], smat)"
   ]
  },
  {
   "cell_type": "code",
   "execution_count": 21,
   "metadata": {},
   "outputs": [
    {
     "data": {
      "text/plain": [
       "(67, 3)"
      ]
     },
     "execution_count": 21,
     "metadata": {},
     "output_type": "execute_result"
    }
   ],
   "source": [
    "reduced_emb.shape"
   ]
  },
  {
   "cell_type": "code",
   "execution_count": 23,
   "metadata": {},
   "outputs": [
    {
     "name": "stdout",
     "output_type": "stream",
     "text": [
      "强调工作\n",
      "对外开放\n",
      "区域\n",
      "财政\n",
      "宏观政策\n",
      "科技\n",
      "意义\n",
      "市场信心\n",
      "社会\n"
     ]
    },
    {
     "data": {
      "text/plain": [
       "<matplotlib.legend.Legend at 0x7f4b23b97160>"
      ]
     },
     "execution_count": 23,
     "metadata": {},
     "output_type": "execute_result"
    },
    {
     "name": "stderr",
     "output_type": "stream",
     "text": [
      "/home/yunyi/.conda/envs/torch/lib/python3.10/site-packages/IPython/core/events.py:89: UserWarning: Glyph 24066 (\\N{CJK UNIFIED IDEOGRAPH-5E02}) missing from current font.\n",
      "  func(*args, **kwargs)\n",
      "/home/yunyi/.conda/envs/torch/lib/python3.10/site-packages/IPython/core/events.py:89: UserWarning: Glyph 22330 (\\N{CJK UNIFIED IDEOGRAPH-573A}) missing from current font.\n",
      "  func(*args, **kwargs)\n",
      "/home/yunyi/.conda/envs/torch/lib/python3.10/site-packages/IPython/core/events.py:89: UserWarning: Glyph 20449 (\\N{CJK UNIFIED IDEOGRAPH-4FE1}) missing from current font.\n",
      "  func(*args, **kwargs)\n",
      "/home/yunyi/.conda/envs/torch/lib/python3.10/site-packages/IPython/core/events.py:89: UserWarning: Glyph 24515 (\\N{CJK UNIFIED IDEOGRAPH-5FC3}) missing from current font.\n",
      "  func(*args, **kwargs)\n",
      "/home/yunyi/.conda/envs/torch/lib/python3.10/site-packages/IPython/core/events.py:89: UserWarning: Glyph 31038 (\\N{CJK UNIFIED IDEOGRAPH-793E}) missing from current font.\n",
      "  func(*args, **kwargs)\n",
      "/home/yunyi/.conda/envs/torch/lib/python3.10/site-packages/IPython/core/events.py:89: UserWarning: Glyph 20250 (\\N{CJK UNIFIED IDEOGRAPH-4F1A}) missing from current font.\n",
      "  func(*args, **kwargs)\n",
      "/home/yunyi/.conda/envs/torch/lib/python3.10/site-packages/IPython/core/pylabtools.py:152: UserWarning: Glyph 24066 (\\N{CJK UNIFIED IDEOGRAPH-5E02}) missing from current font.\n",
      "  fig.canvas.print_figure(bytes_io, **kw)\n",
      "/home/yunyi/.conda/envs/torch/lib/python3.10/site-packages/IPython/core/pylabtools.py:152: UserWarning: Glyph 22330 (\\N{CJK UNIFIED IDEOGRAPH-573A}) missing from current font.\n",
      "  fig.canvas.print_figure(bytes_io, **kw)\n",
      "/home/yunyi/.conda/envs/torch/lib/python3.10/site-packages/IPython/core/pylabtools.py:152: UserWarning: Glyph 20449 (\\N{CJK UNIFIED IDEOGRAPH-4FE1}) missing from current font.\n",
      "  fig.canvas.print_figure(bytes_io, **kw)\n",
      "/home/yunyi/.conda/envs/torch/lib/python3.10/site-packages/IPython/core/pylabtools.py:152: UserWarning: Glyph 24515 (\\N{CJK UNIFIED IDEOGRAPH-5FC3}) missing from current font.\n",
      "  fig.canvas.print_figure(bytes_io, **kw)\n",
      "/home/yunyi/.conda/envs/torch/lib/python3.10/site-packages/IPython/core/pylabtools.py:152: UserWarning: Glyph 31038 (\\N{CJK UNIFIED IDEOGRAPH-793E}) missing from current font.\n",
      "  fig.canvas.print_figure(bytes_io, **kw)\n",
      "/home/yunyi/.conda/envs/torch/lib/python3.10/site-packages/IPython/core/pylabtools.py:152: UserWarning: Glyph 20250 (\\N{CJK UNIFIED IDEOGRAPH-4F1A}) missing from current font.\n",
      "  fig.canvas.print_figure(bytes_io, **kw)\n"
     ]
    },
    {
     "data": {
      "image/png": "[encoded data removed]",
      "text/plain": [
       "<Figure size 640x480 with 1 Axes>"
      ]
     },
     "metadata": {},
     "output_type": "display_data"
    }
   ],
   "source": [
    "tpc_unique = list(set(topic))\n",
    "for the_tpc in tpc_unique[:9]:\n",
    "    idx = [i for i in range(len(topic)) if topic[i]==the_tpc]\n",
    "    plt.scatter(reduced_emb[idx,0], reduced_emb[idx,1], label=the_tpc)\n",
    "    print(the_tpc)\n",
    "plt.legend()"
   ]
  }
 ],
 "metadata": {
  "kernelspec": {
   "display_name": "torch",
   "language": "python",
   "name": "python3"
  },
  "language_info": {
   "codemirror_mode": {
    "name": "ipython",
    "version": 3
   },
   "file_extension": ".py",
   "mimetype": "text/x-python",
   "name": "python",
   "nbconvert_exporter": "python",
   "pygments_lexer": "ipython3",
   "version": "3.10.8"
  },
  "orig_nbformat": 4,
  "vscode": {
   "interpreter": {
    "hash": "4651a3bcbffc5efcc9adbca4819b625d1a759278a28ed9472feb5290e47c2de5"
   }
  }
 },
 "nbformat": 4,
 "nbformat_minor": 2
}
